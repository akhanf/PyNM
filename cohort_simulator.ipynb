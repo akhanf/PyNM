{
 "cells": [
  {
   "cell_type": "code",
   "execution_count": 8,
   "metadata": {},
   "outputs": [],
   "source": [
    "import numpy as np\n",
    "import pandas as pd"
   ]
  },
  {
   "cell_type": "code",
   "execution_count": 140,
   "metadata": {},
   "outputs": [
    {
     "data": {
      "text/html": [
       "<div>\n",
       "<style scoped>\n",
       "    .dataframe tbody tr th:only-of-type {\n",
       "        vertical-align: middle;\n",
       "    }\n",
       "\n",
       "    .dataframe tbody tr th {\n",
       "        vertical-align: top;\n",
       "    }\n",
       "\n",
       "    .dataframe thead th {\n",
       "        text-align: right;\n",
       "    }\n",
       "</style>\n",
       "<table border=\"1\" class=\"dataframe\">\n",
       "  <thead>\n",
       "    <tr style=\"text-align: right;\">\n",
       "      <th></th>\n",
       "      <th>sex_ratio</th>\n",
       "      <th>age_min</th>\n",
       "      <th>age_max</th>\n",
       "      <th>score_shift</th>\n",
       "      <th>sample_size</th>\n",
       "    </tr>\n",
       "  </thead>\n",
       "  <tbody>\n",
       "    <tr>\n",
       "      <th>0</th>\n",
       "      <td>0.155995</td>\n",
       "      <td>18</td>\n",
       "      <td>24</td>\n",
       "      <td>-0.142845</td>\n",
       "      <td>119</td>\n",
       "    </tr>\n",
       "    <tr>\n",
       "      <th>1</th>\n",
       "      <td>0.058084</td>\n",
       "      <td>47</td>\n",
       "      <td>100</td>\n",
       "      <td>-0.231021</td>\n",
       "      <td>196</td>\n",
       "    </tr>\n",
       "    <tr>\n",
       "      <th>2</th>\n",
       "      <td>0.866176</td>\n",
       "      <td>36</td>\n",
       "      <td>82</td>\n",
       "      <td>-0.653137</td>\n",
       "      <td>233</td>\n",
       "    </tr>\n",
       "    <tr>\n",
       "      <th>3</th>\n",
       "      <td>0.601115</td>\n",
       "      <td>29</td>\n",
       "      <td>44</td>\n",
       "      <td>0.237592</td>\n",
       "      <td>278</td>\n",
       "    </tr>\n",
       "    <tr>\n",
       "      <th>4</th>\n",
       "      <td>0.708073</td>\n",
       "      <td>7</td>\n",
       "      <td>21</td>\n",
       "      <td>0.204111</td>\n",
       "      <td>442</td>\n",
       "    </tr>\n",
       "  </tbody>\n",
       "</table>\n",
       "</div>"
      ],
      "text/plain": [
       "   sex_ratio  age_min  age_max  score_shift  sample_size\n",
       "0   0.155995       18       24    -0.142845          119\n",
       "1   0.058084       47      100    -0.231021          196\n",
       "2   0.866176       36       82    -0.653137          233\n",
       "3   0.601115       29       44     0.237592          278\n",
       "4   0.708073        7       21     0.204111          442"
      ]
     },
     "execution_count": 140,
     "metadata": {},
     "output_type": "execute_result"
    }
   ],
   "source": [
    "# Generate fake sites\n",
    "np.random.seed(42)\n",
    "n_sites = 5\n",
    "age_min = (np.random.rand(n_sites)*50).astype(int)\n",
    "sites = pd.DataFrame(data={'sex_ratio': np.random.rand(n_sites), \n",
    "                          'age_min': age_min, \n",
    "                          'age_max': (age_min+5+np.random.rand(n_sites)*50).astype(int),\n",
    "                          'score_shift': np.random.randn(n_sites)/4,\n",
    "                          'sample_size': (50+np.random.rand(n_sites)*500).astype(int)})\n",
    "sites"
   ]
  },
  {
   "cell_type": "code",
   "execution_count": 141,
   "metadata": {},
   "outputs": [],
   "source": [
    "# implicit model\n",
    "\n",
    "def model(age):\n",
    "    age = np.atleast_2d(np.array(age))\n",
    "    score = np.log(age+10) + 0.5*np.random.randn(np.shape(age)[1])\n",
    "    return score"
   ]
  },
  {
   "cell_type": "code",
   "execution_count": 142,
   "metadata": {},
   "outputs": [
    {
     "data": {
      "application/vnd.jupyter.widget-view+json": {
       "model_id": "ff58ba84df57410e87b7e2fa473625a6",
       "version_major": 2,
       "version_minor": 0
      },
      "text/plain": [
       "Canvas(toolbar=Toolbar(toolitems=[('Home', 'Reset original view', 'home', 'home'), ('Back', 'Back to previous …"
      ]
     },
     "metadata": {},
     "output_type": "display_data"
    },
    {
     "data": {
      "text/plain": [
       "[<matplotlib.lines.Line2D at 0x7f8a52665950>]"
      ]
     },
     "execution_count": 142,
     "metadata": {},
     "output_type": "execute_result"
    }
   ],
   "source": [
    "%matplotlib widget\n",
    "import matplotlib.pyplot as plt\n",
    "\n",
    "age = np.linspace(1, 120)\n",
    "\n",
    "plt.plot(np.atleast_2d(np.array(age)).T, model(age).T)"
   ]
  },
  {
   "cell_type": "code",
   "execution_count": 143,
   "metadata": {},
   "outputs": [
    {
     "name": "stdout",
     "output_type": "stream",
     "text": [
      "Processing site # 0\n",
      "Processing site # 1\n",
      "Processing site # 2\n",
      "Processing site # 3\n",
      "Processing site # 4\n"
     ]
    }
   ],
   "source": [
    "# Generate fake participants\n",
    "\n",
    "participants = []\n",
    "for site in sites.iterrows():\n",
    "    print(f'Processing site # {site[0]}')\n",
    "    for participant in range(int(site[1]['sample_size'])):\n",
    "        sex = np.random.rand()>site[1]['sex_ratio']\n",
    "        age = site[1]['age_min'] + np.random.rand() * (site[1]['age_max']-site[1]['age_min'])\n",
    "        score = model(age) + site[1]['score_shift']\n",
    "        participants.append([site[0], sex, age, score[0][0]])"
   ]
  },
  {
   "cell_type": "code",
   "execution_count": 144,
   "metadata": {},
   "outputs": [
    {
     "data": {
      "text/html": [
       "<div>\n",
       "<style scoped>\n",
       "    .dataframe tbody tr th:only-of-type {\n",
       "        vertical-align: middle;\n",
       "    }\n",
       "\n",
       "    .dataframe tbody tr th {\n",
       "        vertical-align: top;\n",
       "    }\n",
       "\n",
       "    .dataframe thead th {\n",
       "        text-align: right;\n",
       "    }\n",
       "</style>\n",
       "<table border=\"1\" class=\"dataframe\">\n",
       "  <thead>\n",
       "    <tr style=\"text-align: right;\">\n",
       "      <th></th>\n",
       "      <th>site</th>\n",
       "      <th>sex</th>\n",
       "      <th>age</th>\n",
       "      <th>score</th>\n",
       "    </tr>\n",
       "  </thead>\n",
       "  <tbody>\n",
       "    <tr>\n",
       "      <th>0</th>\n",
       "      <td>0</td>\n",
       "      <td>Female</td>\n",
       "      <td>20.962774</td>\n",
       "      <td>4.058959</td>\n",
       "    </tr>\n",
       "    <tr>\n",
       "      <th>1</th>\n",
       "      <td>0</td>\n",
       "      <td>Female</td>\n",
       "      <td>20.565246</td>\n",
       "      <td>3.320542</td>\n",
       "    </tr>\n",
       "    <tr>\n",
       "      <th>2</th>\n",
       "      <td>0</td>\n",
       "      <td>Female</td>\n",
       "      <td>21.051424</td>\n",
       "      <td>3.143296</td>\n",
       "    </tr>\n",
       "    <tr>\n",
       "      <th>3</th>\n",
       "      <td>0</td>\n",
       "      <td>Female</td>\n",
       "      <td>19.495753</td>\n",
       "      <td>3.980348</td>\n",
       "    </tr>\n",
       "    <tr>\n",
       "      <th>4</th>\n",
       "      <td>0</td>\n",
       "      <td>Female</td>\n",
       "      <td>18.461879</td>\n",
       "      <td>2.946585</td>\n",
       "    </tr>\n",
       "  </tbody>\n",
       "</table>\n",
       "</div>"
      ],
      "text/plain": [
       "   site     sex        age     score\n",
       "0     0  Female  20.962774  4.058959\n",
       "1     0  Female  20.565246  3.320542\n",
       "2     0  Female  21.051424  3.143296\n",
       "3     0  Female  19.495753  3.980348\n",
       "4     0  Female  18.461879  2.946585"
      ]
     },
     "execution_count": 144,
     "metadata": {},
     "output_type": "execute_result"
    }
   ],
   "source": [
    "df=pd.DataFrame(participants, columns=['site', 'sex', 'age', 'score'])\n",
    "df.sex.replace({True: 'Female', False: 'Male'}, inplace=True)\n",
    "df.head()"
   ]
  },
  {
   "cell_type": "code",
   "execution_count": 145,
   "metadata": {},
   "outputs": [
    {
     "data": {
      "application/vnd.jupyter.widget-view+json": {
       "model_id": "d06ea288e53a407699bb328476bf5bf4",
       "version_major": 2,
       "version_minor": 0
      },
      "text/plain": [
       "Canvas(toolbar=Toolbar(toolitems=[('Home', 'Reset original view', 'home', 'home'), ('Back', 'Back to previous …"
      ]
     },
     "metadata": {},
     "output_type": "display_data"
    }
   ],
   "source": [
    "import seaborn as sns\n",
    "\n",
    "plt.figure()\n",
    "sns.scatterplot(data=df, x='age', y='score', hue='site', style='site')\n",
    "plt.show()"
   ]
  },
  {
   "cell_type": "code",
   "execution_count": null,
   "metadata": {},
   "outputs": [],
   "source": []
  }
 ],
 "metadata": {
  "kernelspec": {
   "display_name": "Python 3",
   "language": "python",
   "name": "python3"
  },
  "language_info": {
   "codemirror_mode": {
    "name": "ipython",
    "version": 3
   },
   "file_extension": ".py",
   "mimetype": "text/x-python",
   "name": "python",
   "nbconvert_exporter": "python",
   "pygments_lexer": "ipython3",
   "version": "3.7.9"
  }
 },
 "nbformat": 4,
 "nbformat_minor": 4
}
