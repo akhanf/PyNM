{
 "cells": [
  {
   "cell_type": "code",
   "execution_count": 1,
   "metadata": {},
   "outputs": [
    {
     "name": "stderr",
     "output_type": "stream",
     "text": [
      "/home/harveyaa/.local/lib/python3.7/site-packages/nilearn/datasets/__init__.py:96: FutureWarning: Fetchers from the nilearn.datasets module will be updated in version 0.9 to return python strings instead of bytes and Pandas dataframes instead of Numpy arrays.\n",
      "  \"Numpy arrays.\", FutureWarning)\n"
     ]
    }
   ],
   "source": [
    "import pandas as pd\n",
    "import numpy as np\n",
    "from pynm.pynm import PyNM\n",
    "import seaborn as sns\n",
    "import matplotlib.pyplot as plt\n",
    "\n",
    "from nilearn import datasets\n",
    "from nilearn.connectome import ConnectivityMeasure\n",
    "from nilearn.input_data import NiftiLabelsMasker\n",
    "from scipy.stats import pearsonr"
   ]
  },
  {
   "cell_type": "markdown",
   "metadata": {},
   "source": [
    "# **Downstream Analyses**\n",
    "In this tutorial we'll use a real dataset to demonstrate using a held out training set in order not to use the results of the normative model for downstream analyses.\n"
   ]
  },
  {
   "cell_type": "markdown",
   "metadata": {},
   "source": [
    "## **Download and Process Data**\n",
    "In both examples we'll use the Cobre dataset. The Cobre dataset consists of resting state fMRI scans for 146 subjects which are either controls or patients diagnosed with Schizophrenia. Here we'll use `nilearn` to fetch the data and process it into connectomes, which are correlation matrices that capture how similar each pair of brain regions are in terms of their functional activity, and for demonstration purposes we'll choose an arbitrary edge from the connectome to fit our normative models to.\n",
    "\n",
    "First, we'll use nilearn to fetch the data. Running the cell below will download ~700 MB of data to your machine."
   ]
  },
  {
   "cell_type": "code",
   "execution_count": 2,
   "metadata": {},
   "outputs": [
    {
     "name": "stderr",
     "output_type": "stream",
     "text": [
      "/home/harveyaa/miniconda3/envs/GPyTorch/lib/python3.7/site-packages/sklearn/utils/deprecation.py:86: FutureWarning: Function fetch_cobre is deprecated; 'fetch_cobre' has been deprecated and will be removed in release 0.9 . Please consider using a different datasets or downloading it with a different tool than nilearn.\n",
      "  warnings.warn(msg, category=FutureWarning)\n",
      "/home/harveyaa/miniconda3/envs/GPyTorch/lib/python3.7/site-packages/numpy/lib/npyio.py:2372: VisibleDeprecationWarning: Reading unicode strings without specifying the encoding argument is deprecated. Set the encoding, use None for the system default.\n",
      "  output = genfromtxt(fname, **kwargs)\n"
     ]
    }
   ],
   "source": [
    "# Download the dataset\n",
    "cobre = datasets.fetch_cobre(n_subjects=None)"
   ]
  },
  {
   "cell_type": "markdown",
   "metadata": {},
   "source": [
    "Now that we have our data, we will need to process it from functional scans (4D data) into connectomes for each subject. To do that we need to download an atlas (to divide the brain into regions) and create `nilearn` objects to extract the activity from each region (`NiftiLabelsMasker`) and to compare the activity between regions (`ConnectivityMeasure`). \n",
    "\n",
    "Running this cell takes about a minute to process each connectome and downloads an atlas (~30MB). \n",
    "\n",
    "**Note:** \n",
    "We've sorted the `cobre.func` and `cobre.confounds` list of filenames to ensure that we are using the same ordering of subjects everywhere (ranked increasing by ID number)."
   ]
  },
  {
   "cell_type": "code",
   "execution_count": 3,
   "metadata": {},
   "outputs": [],
   "source": [
    "# Download an atlas\n",
    "atlas = datasets.fetch_atlas_harvard_oxford('cort-maxprob-thr25-2mm')\n",
    "\n",
    "# Create the masker and correlation measure\n",
    "masker = NiftiLabelsMasker(labels_img=atlas.maps, standardize=True)\n",
    "correlation_measure = ConnectivityMeasure(kind='correlation')\n",
    "\n",
    "# Get a connectome for each subject\n",
    "mask = np.tril(np.ones((48,48),dtype=bool))\n",
    "connectomes=[]\n",
    "for func,conf in zip(np.sort(cobre.func),np.sort(cobre.confounds)):\n",
    "    ts = masker.fit_transform(func, confounds=conf)\n",
    "    corr = correlation_measure.fit_transform([ts])[0]\n",
    "    connectomes.append(corr[mask])\n",
    "\n",
    "connectomes = np.array(connectomes)"
   ]
  },
  {
   "cell_type": "markdown",
   "metadata": {},
   "source": [
    "Now we'll build a DataFrame that we can use with PyNM. We'll grab the IDs, status (patient or control), gender, and age from the Cobre phenotypic information first and sort the values according to ID to match the order we processed the connectomes. Then we'll choose a random edge of the connectome to model for our example and add it to the dataframe.\n",
    "\n",
    "**Note:**\n",
    "We are building the DataFrame in this manner to ensure that pandas has the correct `dtype` for each column - if the DataFrame has `object` type for any of the columns it will cause an issue with the GAMLSS model (when the DataFrame is converted to R)."
   ]
  },
  {
   "cell_type": "code",
   "execution_count": 32,
   "metadata": {},
   "outputs": [],
   "source": [
    "# Create a DataFrame\n",
    "pheno = pd.DataFrame([int(x) for x in cobre.phenotypic['id']])\n",
    "pheno['status'] = [(x==b'Patient')*1 for x in cobre.phenotypic['subject_type']]\n",
    "pheno['gender'] = [(x==b'Female')*1 for x in cobre.phenotypic['gender']]\n",
    "pheno['age'] = [x for x in cobre.phenotypic['current_age']]\n",
    "\n",
    "# Sort the values by id (same sorting as above)\n",
    "pheno.sort_values(0,inplace=True)\n",
    "pheno.reset_index(inplace=True)"
   ]
  },
  {
   "cell_type": "markdown",
   "metadata": {},
   "source": [
    "### Filter Edges"
   ]
  },
  {
   "cell_type": "code",
   "execution_count": 33,
   "metadata": {},
   "outputs": [
    {
     "name": "stderr",
     "output_type": "stream",
     "text": [
      "/home/harveyaa/miniconda3/envs/GPyTorch/lib/python3.7/site-packages/scipy/stats/stats.py:3845: PearsonRConstantInputWarning: An input array is constant; the correlation coefficent is not defined.\n",
      "  warnings.warn(PearsonRConstantInputWarning())\n"
     ]
    }
   ],
   "source": [
    "n_edges = int(connectomes.shape[1]/10)\n",
    "corr = []\n",
    "for i in range(connectomes.shape[1]):\n",
    "\n",
    "    y = connectomes[:,i]\n",
    "    x = pheno['status']\n",
    "    r = pearsonr(x,y)[0]\n",
    "    corr.append(r)\n",
    "\n",
    "edges = pd.DataFrame([corr], index = ['r']).transpose()\n",
    "edges['r_abs'] = edges['r'].abs()\n",
    "edges.sort_values('r_abs',inplace=True)\n",
    "edges = edges[edges['r'].notna()]\n",
    "top_edges = edges[-n_edges:].index.to_list()\n",
    "edges.loc[top_edges]\n",
    "\n",
    "if len(top_edges) < n_edges:\n",
    "    n_edges = len(top_edges)"
   ]
  },
  {
   "cell_type": "code",
   "execution_count": 34,
   "metadata": {},
   "outputs": [
    {
     "data": {
      "text/html": [
       "<div>\n",
       "<style scoped>\n",
       "    .dataframe tbody tr th:only-of-type {\n",
       "        vertical-align: middle;\n",
       "    }\n",
       "\n",
       "    .dataframe tbody tr th {\n",
       "        vertical-align: top;\n",
       "    }\n",
       "\n",
       "    .dataframe thead th {\n",
       "        text-align: right;\n",
       "    }\n",
       "</style>\n",
       "<table border=\"1\" class=\"dataframe\">\n",
       "  <thead>\n",
       "    <tr style=\"text-align: right;\">\n",
       "      <th></th>\n",
       "      <th>index</th>\n",
       "      <th>0</th>\n",
       "      <th>status</th>\n",
       "      <th>gender</th>\n",
       "      <th>age</th>\n",
       "      <th>edge_799</th>\n",
       "      <th>edge_298</th>\n",
       "      <th>edge_1137</th>\n",
       "      <th>edge_949</th>\n",
       "      <th>edge_198</th>\n",
       "      <th>...</th>\n",
       "      <th>edge_422</th>\n",
       "      <th>edge_685</th>\n",
       "      <th>edge_120</th>\n",
       "      <th>edge_199</th>\n",
       "      <th>edge_418</th>\n",
       "      <th>edge_998</th>\n",
       "      <th>edge_661</th>\n",
       "      <th>edge_525</th>\n",
       "      <th>edge_800</th>\n",
       "      <th>edge_1043</th>\n",
       "    </tr>\n",
       "  </thead>\n",
       "  <tbody>\n",
       "    <tr>\n",
       "      <th>0</th>\n",
       "      <td>7</td>\n",
       "      <td>40000</td>\n",
       "      <td>1</td>\n",
       "      <td>1</td>\n",
       "      <td>20</td>\n",
       "      <td>-0.257406</td>\n",
       "      <td>0.311796</td>\n",
       "      <td>0.014178</td>\n",
       "      <td>-0.082577</td>\n",
       "      <td>-0.032144</td>\n",
       "      <td>...</td>\n",
       "      <td>0.050365</td>\n",
       "      <td>-0.031606</td>\n",
       "      <td>0.078793</td>\n",
       "      <td>0.199364</td>\n",
       "      <td>0.045594</td>\n",
       "      <td>0.136815</td>\n",
       "      <td>0.380494</td>\n",
       "      <td>0.027837</td>\n",
       "      <td>-0.240047</td>\n",
       "      <td>0.128529</td>\n",
       "    </tr>\n",
       "    <tr>\n",
       "      <th>1</th>\n",
       "      <td>44</td>\n",
       "      <td>40001</td>\n",
       "      <td>1</td>\n",
       "      <td>0</td>\n",
       "      <td>27</td>\n",
       "      <td>-0.379473</td>\n",
       "      <td>0.131757</td>\n",
       "      <td>-0.192015</td>\n",
       "      <td>0.052609</td>\n",
       "      <td>-0.074335</td>\n",
       "      <td>...</td>\n",
       "      <td>0.113033</td>\n",
       "      <td>-0.058529</td>\n",
       "      <td>0.029666</td>\n",
       "      <td>0.396826</td>\n",
       "      <td>-0.128370</td>\n",
       "      <td>0.228216</td>\n",
       "      <td>0.252841</td>\n",
       "      <td>0.173624</td>\n",
       "      <td>-0.137793</td>\n",
       "      <td>0.159235</td>\n",
       "    </tr>\n",
       "    <tr>\n",
       "      <th>2</th>\n",
       "      <td>3</td>\n",
       "      <td>40002</td>\n",
       "      <td>1</td>\n",
       "      <td>0</td>\n",
       "      <td>19</td>\n",
       "      <td>0.018757</td>\n",
       "      <td>-0.091892</td>\n",
       "      <td>0.008347</td>\n",
       "      <td>-0.460239</td>\n",
       "      <td>0.181708</td>\n",
       "      <td>...</td>\n",
       "      <td>0.002302</td>\n",
       "      <td>-0.130790</td>\n",
       "      <td>-0.142620</td>\n",
       "      <td>0.326010</td>\n",
       "      <td>-0.241200</td>\n",
       "      <td>0.178699</td>\n",
       "      <td>0.328724</td>\n",
       "      <td>0.080340</td>\n",
       "      <td>-0.020750</td>\n",
       "      <td>0.379162</td>\n",
       "    </tr>\n",
       "    <tr>\n",
       "      <th>3</th>\n",
       "      <td>47</td>\n",
       "      <td>40003</td>\n",
       "      <td>1</td>\n",
       "      <td>0</td>\n",
       "      <td>28</td>\n",
       "      <td>-0.050563</td>\n",
       "      <td>0.287813</td>\n",
       "      <td>-0.201069</td>\n",
       "      <td>-0.323207</td>\n",
       "      <td>0.116047</td>\n",
       "      <td>...</td>\n",
       "      <td>-0.006863</td>\n",
       "      <td>-0.269834</td>\n",
       "      <td>-0.063885</td>\n",
       "      <td>0.181748</td>\n",
       "      <td>-0.344480</td>\n",
       "      <td>-0.026243</td>\n",
       "      <td>0.348844</td>\n",
       "      <td>0.017518</td>\n",
       "      <td>-0.155395</td>\n",
       "      <td>0.450610</td>\n",
       "    </tr>\n",
       "    <tr>\n",
       "      <th>4</th>\n",
       "      <td>132</td>\n",
       "      <td>40004</td>\n",
       "      <td>1</td>\n",
       "      <td>0</td>\n",
       "      <td>55</td>\n",
       "      <td>-0.207924</td>\n",
       "      <td>0.253322</td>\n",
       "      <td>0.175348</td>\n",
       "      <td>-0.118534</td>\n",
       "      <td>0.068798</td>\n",
       "      <td>...</td>\n",
       "      <td>-0.002582</td>\n",
       "      <td>0.162083</td>\n",
       "      <td>-0.135686</td>\n",
       "      <td>0.355672</td>\n",
       "      <td>-0.172744</td>\n",
       "      <td>0.128636</td>\n",
       "      <td>0.604843</td>\n",
       "      <td>-0.213837</td>\n",
       "      <td>-0.101746</td>\n",
       "      <td>0.213996</td>\n",
       "    </tr>\n",
       "    <tr>\n",
       "      <th>...</th>\n",
       "      <td>...</td>\n",
       "      <td>...</td>\n",
       "      <td>...</td>\n",
       "      <td>...</td>\n",
       "      <td>...</td>\n",
       "      <td>...</td>\n",
       "      <td>...</td>\n",
       "      <td>...</td>\n",
       "      <td>...</td>\n",
       "      <td>...</td>\n",
       "      <td>...</td>\n",
       "      <td>...</td>\n",
       "      <td>...</td>\n",
       "      <td>...</td>\n",
       "      <td>...</td>\n",
       "      <td>...</td>\n",
       "      <td>...</td>\n",
       "      <td>...</td>\n",
       "      <td>...</td>\n",
       "      <td>...</td>\n",
       "      <td>...</td>\n",
       "    </tr>\n",
       "    <tr>\n",
       "      <th>141</th>\n",
       "      <td>127</td>\n",
       "      <td>40143</td>\n",
       "      <td>1</td>\n",
       "      <td>0</td>\n",
       "      <td>52</td>\n",
       "      <td>-0.242938</td>\n",
       "      <td>0.307250</td>\n",
       "      <td>0.209056</td>\n",
       "      <td>-0.107722</td>\n",
       "      <td>-0.124790</td>\n",
       "      <td>...</td>\n",
       "      <td>0.386310</td>\n",
       "      <td>-0.204695</td>\n",
       "      <td>-0.108080</td>\n",
       "      <td>-0.044470</td>\n",
       "      <td>-0.101780</td>\n",
       "      <td>0.249154</td>\n",
       "      <td>0.051066</td>\n",
       "      <td>0.119595</td>\n",
       "      <td>-0.090148</td>\n",
       "      <td>0.253470</td>\n",
       "    </tr>\n",
       "    <tr>\n",
       "      <th>142</th>\n",
       "      <td>131</td>\n",
       "      <td>40144</td>\n",
       "      <td>0</td>\n",
       "      <td>0</td>\n",
       "      <td>54</td>\n",
       "      <td>-0.100877</td>\n",
       "      <td>0.108641</td>\n",
       "      <td>-0.033476</td>\n",
       "      <td>-0.246691</td>\n",
       "      <td>-0.007987</td>\n",
       "      <td>...</td>\n",
       "      <td>-0.102610</td>\n",
       "      <td>0.010874</td>\n",
       "      <td>-0.019051</td>\n",
       "      <td>0.188778</td>\n",
       "      <td>0.079524</td>\n",
       "      <td>0.395445</td>\n",
       "      <td>0.315924</td>\n",
       "      <td>-0.001056</td>\n",
       "      <td>-0.169603</td>\n",
       "      <td>0.496715</td>\n",
       "    </tr>\n",
       "    <tr>\n",
       "      <th>143</th>\n",
       "      <td>5</td>\n",
       "      <td>40145</td>\n",
       "      <td>1</td>\n",
       "      <td>0</td>\n",
       "      <td>19</td>\n",
       "      <td>-0.070697</td>\n",
       "      <td>0.096311</td>\n",
       "      <td>-0.018311</td>\n",
       "      <td>-0.345511</td>\n",
       "      <td>-0.362690</td>\n",
       "      <td>...</td>\n",
       "      <td>0.118903</td>\n",
       "      <td>0.015522</td>\n",
       "      <td>0.089822</td>\n",
       "      <td>-0.198501</td>\n",
       "      <td>-0.055750</td>\n",
       "      <td>0.274921</td>\n",
       "      <td>0.465342</td>\n",
       "      <td>-0.204806</td>\n",
       "      <td>-0.138312</td>\n",
       "      <td>0.349986</td>\n",
       "    </tr>\n",
       "    <tr>\n",
       "      <th>144</th>\n",
       "      <td>83</td>\n",
       "      <td>40146</td>\n",
       "      <td>0</td>\n",
       "      <td>0</td>\n",
       "      <td>39</td>\n",
       "      <td>-0.307545</td>\n",
       "      <td>0.053324</td>\n",
       "      <td>-0.145977</td>\n",
       "      <td>-0.191654</td>\n",
       "      <td>-0.158428</td>\n",
       "      <td>...</td>\n",
       "      <td>-0.080727</td>\n",
       "      <td>-0.071308</td>\n",
       "      <td>-0.034203</td>\n",
       "      <td>0.413233</td>\n",
       "      <td>-0.257446</td>\n",
       "      <td>0.295259</td>\n",
       "      <td>0.570290</td>\n",
       "      <td>0.020929</td>\n",
       "      <td>-0.351848</td>\n",
       "      <td>0.294915</td>\n",
       "    </tr>\n",
       "    <tr>\n",
       "      <th>145</th>\n",
       "      <td>71</td>\n",
       "      <td>40147</td>\n",
       "      <td>0</td>\n",
       "      <td>0</td>\n",
       "      <td>34</td>\n",
       "      <td>-0.272011</td>\n",
       "      <td>-0.146407</td>\n",
       "      <td>0.116010</td>\n",
       "      <td>-0.176761</td>\n",
       "      <td>0.160038</td>\n",
       "      <td>...</td>\n",
       "      <td>-0.139727</td>\n",
       "      <td>-0.001563</td>\n",
       "      <td>-0.232220</td>\n",
       "      <td>0.126520</td>\n",
       "      <td>-0.048941</td>\n",
       "      <td>0.335248</td>\n",
       "      <td>0.542586</td>\n",
       "      <td>-0.170212</td>\n",
       "      <td>-0.126789</td>\n",
       "      <td>0.227371</td>\n",
       "    </tr>\n",
       "  </tbody>\n",
       "</table>\n",
       "<p>146 rows × 122 columns</p>\n",
       "</div>"
      ],
      "text/plain": [
       "     index      0  status  gender  age  edge_799  edge_298  edge_1137  \\\n",
       "0        7  40000       1       1   20 -0.257406  0.311796   0.014178   \n",
       "1       44  40001       1       0   27 -0.379473  0.131757  -0.192015   \n",
       "2        3  40002       1       0   19  0.018757 -0.091892   0.008347   \n",
       "3       47  40003       1       0   28 -0.050563  0.287813  -0.201069   \n",
       "4      132  40004       1       0   55 -0.207924  0.253322   0.175348   \n",
       "..     ...    ...     ...     ...  ...       ...       ...        ...   \n",
       "141    127  40143       1       0   52 -0.242938  0.307250   0.209056   \n",
       "142    131  40144       0       0   54 -0.100877  0.108641  -0.033476   \n",
       "143      5  40145       1       0   19 -0.070697  0.096311  -0.018311   \n",
       "144     83  40146       0       0   39 -0.307545  0.053324  -0.145977   \n",
       "145     71  40147       0       0   34 -0.272011 -0.146407   0.116010   \n",
       "\n",
       "     edge_949  edge_198  ...  edge_422  edge_685  edge_120  edge_199  \\\n",
       "0   -0.082577 -0.032144  ...  0.050365 -0.031606  0.078793  0.199364   \n",
       "1    0.052609 -0.074335  ...  0.113033 -0.058529  0.029666  0.396826   \n",
       "2   -0.460239  0.181708  ...  0.002302 -0.130790 -0.142620  0.326010   \n",
       "3   -0.323207  0.116047  ... -0.006863 -0.269834 -0.063885  0.181748   \n",
       "4   -0.118534  0.068798  ... -0.002582  0.162083 -0.135686  0.355672   \n",
       "..        ...       ...  ...       ...       ...       ...       ...   \n",
       "141 -0.107722 -0.124790  ...  0.386310 -0.204695 -0.108080 -0.044470   \n",
       "142 -0.246691 -0.007987  ... -0.102610  0.010874 -0.019051  0.188778   \n",
       "143 -0.345511 -0.362690  ...  0.118903  0.015522  0.089822 -0.198501   \n",
       "144 -0.191654 -0.158428  ... -0.080727 -0.071308 -0.034203  0.413233   \n",
       "145 -0.176761  0.160038  ... -0.139727 -0.001563 -0.232220  0.126520   \n",
       "\n",
       "     edge_418  edge_998  edge_661  edge_525  edge_800  edge_1043  \n",
       "0    0.045594  0.136815  0.380494  0.027837 -0.240047   0.128529  \n",
       "1   -0.128370  0.228216  0.252841  0.173624 -0.137793   0.159235  \n",
       "2   -0.241200  0.178699  0.328724  0.080340 -0.020750   0.379162  \n",
       "3   -0.344480 -0.026243  0.348844  0.017518 -0.155395   0.450610  \n",
       "4   -0.172744  0.128636  0.604843 -0.213837 -0.101746   0.213996  \n",
       "..        ...       ...       ...       ...       ...        ...  \n",
       "141 -0.101780  0.249154  0.051066  0.119595 -0.090148   0.253470  \n",
       "142  0.079524  0.395445  0.315924 -0.001056 -0.169603   0.496715  \n",
       "143 -0.055750  0.274921  0.465342 -0.204806 -0.138312   0.349986  \n",
       "144 -0.257446  0.295259  0.570290  0.020929 -0.351848   0.294915  \n",
       "145 -0.048941  0.335248  0.542586 -0.170212 -0.126789   0.227371  \n",
       "\n",
       "[146 rows x 122 columns]"
      ]
     },
     "execution_count": 34,
     "metadata": {},
     "output_type": "execute_result"
    }
   ],
   "source": [
    "edge_names = [f\"edge_{i}\" for i in top_edges]\n",
    "df = pd.DataFrame(connectomes[:,top_edges],columns = edge_names)\n",
    "pheno = pd.concat([pheno,df],axis=1)\n",
    "pheno"
   ]
  },
  {
   "cell_type": "code",
   "execution_count": 35,
   "metadata": {},
   "outputs": [
    {
     "data": {
      "text/plain": [
       "<AxesSubplot:xlabel='age', ylabel='edge_1043'>"
      ]
     },
     "execution_count": 35,
     "metadata": {},
     "output_type": "execute_result"
    },
    {
     "data": {
      "image/png": "[encoded data removed]",
      "text/plain": [
       "<Figure size 720x360 with 1 Axes>"
      ]
     },
     "metadata": {
      "needs_background": "light"
     },
     "output_type": "display_data"
    }
   ],
   "source": [
    "plt.figure(figsize=(10,5))\n",
    "sns.scatterplot(x='age',y='edge_1043',data=pheno,hue='status')"
   ]
  },
  {
   "cell_type": "markdown",
   "metadata": {},
   "source": [
    "## **Example 1**\n",
    "The wrong way"
   ]
  },
  {
   "cell_type": "markdown",
   "metadata": {},
   "source": [
    "### Fit Normative Models"
   ]
  },
  {
   "cell_type": "code",
   "execution_count": 43,
   "metadata": {},
   "outputs": [],
   "source": [
    "%%capture\n",
    "\n",
    "# Initialize pynm w/ data, confounds & bin parameters\n",
    "res = []\n",
    "for i in reversed(range(n_edges)):\n",
    "    m = PyNM(pheno,edge_names[i],'status',['age','c(gender)'], \n",
    "    bin_width=10, bin_spacing=5)\n",
    "    m.loess_normative_model()\n",
    "    res.append(m.data['LOESS_z'])\n",
    "results = pd.concat(res,axis=1)"
   ]
  },
  {
   "cell_type": "code",
   "execution_count": 44,
   "metadata": {},
   "outputs": [
    {
     "data": {
      "image/png": "[encoded data removed]",
      "text/plain": [
       "<Figure size 360x360 with 1 Axes>"
      ]
     },
     "metadata": {
      "needs_background": "light"
     },
     "output_type": "display_data"
    }
   ],
   "source": [
    "m.plot()"
   ]
  },
  {
   "cell_type": "code",
   "execution_count": 45,
   "metadata": {},
   "outputs": [
    {
     "name": "stdout",
     "output_type": "stream",
     "text": [
      "(97, 117)\n",
      "(49, 117)\n",
      "(97,)\n",
      "(49,)\n",
      "0.8367346938775511\n"
     ]
    }
   ],
   "source": [
    "from sklearn.model_selection import train_test_split\n",
    "from sklearn.metrics import accuracy_score\n",
    "\n",
    "X = results.to_numpy()\n",
    "y = m.data['status'].to_numpy()\n",
    "\n",
    "X_train, X_test, y_train, y_test = train_test_split(X,y,test_size=0.33)\n",
    "\n",
    "print(X_train.shape)\n",
    "print(X_test.shape)\n",
    "print(y_train.shape)\n",
    "print(y_test.shape)\n",
    "\n",
    "from sklearn.svm import SVC\n",
    "\n",
    "svr = SVC()\n",
    "svr.fit(X_train,y_train)\n",
    "pred = svr.predict(X_test)\n",
    "\n",
    "print(accuracy_score(y_test,pred))"
   ]
  },
  {
   "cell_type": "markdown",
   "metadata": {},
   "source": [
    "## **Example 2**\n",
    "The right way"
   ]
  },
  {
   "cell_type": "markdown",
   "metadata": {},
   "source": [
    "### Fit Normative Model"
   ]
  },
  {
   "cell_type": "code",
   "execution_count": 46,
   "metadata": {},
   "outputs": [],
   "source": [
    "%%capture\n",
    "\n",
    "# Initialize pynm w/ data, confounds & bin parameters\n",
    "res_clean = []\n",
    "for i in reversed(range(n_edges)):\n",
    "    m = PyNM(pheno,edge_names[i],'status',['age','c(gender)'],\n",
    "            bin_width=10, bin_spacing=5,\n",
    "            train_sample=0.5, seed=1)\n",
    "    m.loess_normative_model()\n",
    "    res_clean.append(m.data[m.data['train_sample']!=1]['LOESS_z'])\n",
    "results_clean = pd.concat(res_clean,axis=1)\n",
    "results_clean['status'] = m.data[m.data['train_sample']!=1]['status']"
   ]
  },
  {
   "cell_type": "code",
   "execution_count": 47,
   "metadata": {},
   "outputs": [
    {
     "data": {
      "image/png": "[encoded data removed]",
      "text/plain": [
       "<Figure size 360x360 with 1 Axes>"
      ]
     },
     "metadata": {
      "needs_background": "light"
     },
     "output_type": "display_data"
    }
   ],
   "source": [
    "m.plot()"
   ]
  },
  {
   "cell_type": "markdown",
   "metadata": {},
   "source": [
    "### Use deviance scores for prediction"
   ]
  },
  {
   "cell_type": "code",
   "execution_count": 48,
   "metadata": {},
   "outputs": [
    {
     "name": "stdout",
     "output_type": "stream",
     "text": [
      "(73, 118)\n",
      "(36, 118)\n",
      "(73,)\n",
      "(36,)\n"
     ]
    }
   ],
   "source": [
    "from sklearn.model_selection import train_test_split\n",
    "from sklearn.metrics import accuracy_score\n",
    "\n",
    "X = results_clean.to_numpy()\n",
    "y = results_clean['status'].to_numpy()\n",
    "\n",
    "X_train, X_test, y_train, y_test = train_test_split(X,y,test_size=0.33)\n",
    "\n",
    "print(X_train.shape)\n",
    "print(X_test.shape)\n",
    "print(y_train.shape)\n",
    "print(y_test.shape)\n",
    "\n",
    "from sklearn.svm import SVC\n",
    "\n",
    "svr = SVC()\n",
    "svr.fit(X_train,y_train)\n",
    "pred = svr.predict(X_test)"
   ]
  },
  {
   "cell_type": "code",
   "execution_count": 49,
   "metadata": {},
   "outputs": [
    {
     "data": {
      "text/plain": [
       "0.75"
      ]
     },
     "execution_count": 49,
     "metadata": {},
     "output_type": "execute_result"
    }
   ],
   "source": [
    "accuracy_score(y_test,pred)"
   ]
  },
  {
   "cell_type": "code",
   "execution_count": null,
   "metadata": {},
   "outputs": [],
   "source": []
  },
  {
   "cell_type": "code",
   "execution_count": null,
   "metadata": {},
   "outputs": [],
   "source": []
  }
 ],
 "metadata": {
  "kernelspec": {
   "display_name": "GPyTorch",
   "language": "python",
   "name": "gpytorch"
  },
  "language_info": {
   "codemirror_mode": {
    "name": "ipython",
    "version": 3
   },
   "file_extension": ".py",
   "mimetype": "text/x-python",
   "name": "python",
   "nbconvert_exporter": "python",
   "pygments_lexer": "ipython3",
   "version": "3.7.10"
  }
 },
 "nbformat": 4,
 "nbformat_minor": 4
}
