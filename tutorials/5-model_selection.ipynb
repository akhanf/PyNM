{
 "cells": [
  {
   "cell_type": "markdown",
   "metadata": {},
   "source": [
    "**Note!**\n",
    "\n",
    "This notebook uses the `nilearn` package - which is not a requirement of `pynm` and must be installed.\n",
    "\n",
    "To do so, uncomment the code in the cell below and run it."
   ]
  },
  {
   "cell_type": "code",
   "execution_count": 1,
   "metadata": {},
   "outputs": [],
   "source": [
    "#import sys\n",
    "#!{sys.executable} -m pip install nilearn==0.9.2"
   ]
  },
  {
   "cell_type": "code",
   "execution_count": 3,
   "metadata": {},
   "outputs": [
    {
     "name": "stderr",
     "output_type": "stream",
     "text": [
      "/Users/harveyaa/miniconda3/envs/pynm/lib/python3.9/site-packages/nilearn/input_data/__init__.py:27: FutureWarning: The import path 'nilearn.input_data' is deprecated in version 0.9. Importing from 'nilearn.input_data' will be possible at least until release 0.13.0. Please import from 'nilearn.maskers' instead.\n",
      "  warnings.warn(message, FutureWarning)\n"
     ]
    }
   ],
   "source": [
    "import pandas as pd\n",
    "import numpy as np\n",
    "from pynm.pynm import PyNM\n",
    "import seaborn as sns\n",
    "import matplotlib.pyplot as plt\n",
    "\n",
    "from nilearn import datasets\n",
    "from nilearn.input_data import NiftiLabelsMasker\n",
    "from nilearn.connectome import ConnectivityMeasure"
   ]
  },
  {
   "cell_type": "markdown",
   "metadata": {},
   "source": [
    "# **Model Selection**\n",
    "In this tutorial we'll use a real dataset to demonstrate using cross-validation for model selection.\n",
    "\n",
    "## **Cross-Validation**\n",
    "The basic idea of cross-validation is to repeat the training and test process on the data multiple times to get a more stable evaluation of a model. In PyNM we've implemented cross-validation as a step before the ordinary model fit to help with model selection:\n",
    "- For K iterations:\n",
    "    - The training sample is shuffled and split again into training and test sets.\n",
    "    - The model is fit on the training set and evaluated on the test set.\n",
    "- The model evaluation for each fold is then averaged to get a final evaluation.\n",
    "- Finally, the model is fit on the entire training sample and applied to the test sample (as usual).\n",
    "\n",
    "## **Metrics**\n",
    "PyNM implements the following metrics for model evaluation:\n",
    "- Standardized Mean Squared Error (SMSE)\n",
    "    - Applies for Centiles, LOESS, GP and GAMLSS models.\n",
    "    - Smaller values are better.\n",
    "- Root Mean Squared Error (RMSE)\n",
    "    - Applies for Centiles, LOESS, GP and GAMLSS models.\n",
    "    - Smaller values are better.\n",
    "- Mean Standardized Log Loss (MSLL)\n",
    "    - Applies for GP and GAMLSS models.\n",
    "    - If value is negative, data is more likely under model than reference model (mean and standard deviation of training data).\n",
    "\n",
    "To see the full implementation details, the code can be found under pynm/util.py.\n"
   ]
  },
  {
   "cell_type": "markdown",
   "metadata": {},
   "source": [
    "## **Example**\n",
    "In this example we'll use the ADHD resting-state dataset to demonstrate using cross-validation for model selection. The dataset consists of resting state fMRI scans for 40 subjects which are either controls or patients diagnosed with ADHD. Here we'll use `nilearn` to fetch the data and process it into connectomes, which are correlation matrices that capture how similar each pair of brain regions are in terms of their functional activity, and for demonstration purposes we'll choose an arbitrary edge from the connectome to fit our normative models to.\n",
    "\n",
    "First, we'll use nilearn to fetch the data. Running the cell below will download ~2 GB of data to your machine."
   ]
  },
  {
   "cell_type": "code",
   "execution_count": 4,
   "metadata": {},
   "outputs": [
    {
     "name": "stdout",
     "output_type": "stream",
     "text": [
      "\n",
      "Dataset created in /Users/harveyaa/nilearn_data/adhd\n",
      "\n",
      "Downloading data from https://www.nitrc.org/frs/download.php/7781/adhd40_metadata.tgz ...\n"
     ]
    },
    {
     "name": "stderr",
     "output_type": "stream",
     "text": [
      " ...done. (1 seconds, 0 min)\n",
      "Extracting data from /Users/harveyaa/nilearn_data/adhd/fbef5baff0b388a8c913a08e1d84e059/adhd40_metadata.tgz..... done.\n"
     ]
    },
    {
     "name": "stdout",
     "output_type": "stream",
     "text": [
      "Downloading data from https://www.nitrc.org/frs/download.php/7782/adhd40_0010042.tgz ...\n"
     ]
    },
    {
     "name": "stderr",
     "output_type": "stream",
     "text": [
      "Downloaded 36085760 of 44414948 bytes (81.2%,    0.7s remaining) ...done. (4 seconds, 0 min)\n",
      "Extracting data from /Users/harveyaa/nilearn_data/adhd/49718167d83b032094ad6d17e64b4e49/adhd40_0010042.tgz..... done.\n"
     ]
    },
    {
     "name": "stdout",
     "output_type": "stream",
     "text": [
      "Downloading data from https://www.nitrc.org/frs/download.php/7783/adhd40_0010064.tgz ...\n"
     ]
    },
    {
     "name": "stderr",
     "output_type": "stream",
     "text": [
      "Downloaded 40296448 of 45583539 bytes (88.4%,    0.4s remaining) ...done. (3 seconds, 0 min)\n",
      "Extracting data from /Users/harveyaa/nilearn_data/adhd/49718167d83b032094ad6d17e64b4e49/adhd40_0010064.tgz..... done.\n"
     ]
    },
    {
     "name": "stdout",
     "output_type": "stream",
     "text": [
      "Downloading data from https://www.nitrc.org/frs/download.php/7784/adhd40_0010128.tgz ...\n"
     ]
    },
    {
     "name": "stderr",
     "output_type": "stream",
     "text": [
      "Downloaded 41598976 of 45461055 bytes (91.5%,    0.3s remaining) ...done. (3 seconds, 0 min)\n",
      "Extracting data from /Users/harveyaa/nilearn_data/adhd/49718167d83b032094ad6d17e64b4e49/adhd40_0010128.tgz..... done.\n"
     ]
    },
    {
     "name": "stdout",
     "output_type": "stream",
     "text": [
      "Downloading data from https://www.nitrc.org/frs/download.php/7785/adhd40_0021019.tgz ...\n"
     ]
    },
    {
     "name": "stderr",
     "output_type": "stream",
     "text": [
      "Downloaded 41844736 of 46216320 bytes (90.5%,    0.3s remaining) ...done. (3 seconds, 0 min)\n",
      "Extracting data from /Users/harveyaa/nilearn_data/adhd/49718167d83b032094ad6d17e64b4e49/adhd40_0021019.tgz..... done.\n"
     ]
    },
    {
     "name": "stdout",
     "output_type": "stream",
     "text": [
      "Downloading data from https://www.nitrc.org/frs/download.php/7786/adhd40_0023008.tgz ...\n"
     ]
    },
    {
     "name": "stderr",
     "output_type": "stream",
     "text": [
      "Downloaded 13778944 of 20407901 bytes (67.5%,    0.5s remaining) ...done. (2 seconds, 0 min)\n",
      "Extracting data from /Users/harveyaa/nilearn_data/adhd/49718167d83b032094ad6d17e64b4e49/adhd40_0023008.tgz..... done.\n"
     ]
    },
    {
     "name": "stdout",
     "output_type": "stream",
     "text": [
      "Downloading data from https://www.nitrc.org/frs/download.php/7787/adhd40_0023012.tgz ...\n"
     ]
    },
    {
     "name": "stderr",
     "output_type": "stream",
     "text": [
      "Downloaded 13901824 of 20706939 bytes (67.1%,    0.5s remaining) ...done. (2 seconds, 0 min)\n",
      "Extracting data from /Users/harveyaa/nilearn_data/adhd/49718167d83b032094ad6d17e64b4e49/adhd40_0023012.tgz..... done.\n"
     ]
    },
    {
     "name": "stdout",
     "output_type": "stream",
     "text": [
      "Downloading data from https://www.nitrc.org/frs/download.php/7788/adhd40_0027011.tgz ...\n"
     ]
    },
    {
     "name": "stderr",
     "output_type": "stream",
     "text": [
      "Downloaded 67059712 of 72402326 bytes (92.6%,    0.4s remaining) ...done. (5 seconds, 0 min)\n",
      "Extracting data from /Users/harveyaa/nilearn_data/adhd/49718167d83b032094ad6d17e64b4e49/adhd40_0027011.tgz..... done.\n"
     ]
    },
    {
     "name": "stdout",
     "output_type": "stream",
     "text": [
      "Downloading data from https://www.nitrc.org/frs/download.php/7789/adhd40_0027018.tgz ...\n"
     ]
    },
    {
     "name": "stderr",
     "output_type": "stream",
     "text": [
      "Downloaded 69607424 of 76184603 bytes (91.4%,    0.5s remaining) ...done. (6 seconds, 0 min)\n",
      "Extracting data from /Users/harveyaa/nilearn_data/adhd/49718167d83b032094ad6d17e64b4e49/adhd40_0027018.tgz..... done.\n"
     ]
    },
    {
     "name": "stdout",
     "output_type": "stream",
     "text": [
      "Downloading data from https://www.nitrc.org/frs/download.php/7790/adhd40_0027034.tgz ...\n"
     ]
    },
    {
     "name": "stderr",
     "output_type": "stream",
     "text": [
      "Downloaded 69828608 of 70074120 bytes (99.6%,    0.0s remaining) ...done. (5 seconds, 0 min)\n",
      "Extracting data from /Users/harveyaa/nilearn_data/adhd/49718167d83b032094ad6d17e64b4e49/adhd40_0027034.tgz..... done.\n"
     ]
    },
    {
     "name": "stdout",
     "output_type": "stream",
     "text": [
      "Downloading data from https://www.nitrc.org/frs/download.php/7791/adhd40_0027037.tgz ...\n"
     ]
    },
    {
     "name": "stderr",
     "output_type": "stream",
     "text": [
      "Downloaded 69091328 of 69291635 bytes (99.7%,    0.0s remaining) ...done. (5 seconds, 0 min)\n",
      "Extracting data from /Users/harveyaa/nilearn_data/adhd/49718167d83b032094ad6d17e64b4e49/adhd40_0027037.tgz..... done.\n"
     ]
    },
    {
     "name": "stdout",
     "output_type": "stream",
     "text": [
      "Downloading data from https://www.nitrc.org/frs/download.php/7792/adhd40_1019436.tgz ...\n"
     ]
    },
    {
     "name": "stderr",
     "output_type": "stream",
     "text": [
      "Downloaded 40099840 of 41803342 bytes (95.9%,    0.1s remaining) ...done. (3 seconds, 0 min)\n",
      "Extracting data from /Users/harveyaa/nilearn_data/adhd/49718167d83b032094ad6d17e64b4e49/adhd40_1019436.tgz..... done.\n"
     ]
    },
    {
     "name": "stdout",
     "output_type": "stream",
     "text": [
      "Downloading data from https://www.nitrc.org/frs/download.php/7793/adhd40_1206380.tgz ...\n"
     ]
    },
    {
     "name": "stderr",
     "output_type": "stream",
     "text": [
      "Downloaded 13950976 of 20763649 bytes (67.2%,    0.5s remaining) ...done. (2 seconds, 0 min)\n",
      "Extracting data from /Users/harveyaa/nilearn_data/adhd/49718167d83b032094ad6d17e64b4e49/adhd40_1206380.tgz..... done.\n"
     ]
    },
    {
     "name": "stdout",
     "output_type": "stream",
     "text": [
      "Downloading data from https://www.nitrc.org/frs/download.php/7794/adhd40_1418396.tgz ...\n"
     ]
    },
    {
     "name": "stderr",
     "output_type": "stream",
     "text": [
      "Downloaded 13869056 of 20168043 bytes (68.8%,    0.5s remaining) ...done. (2 seconds, 0 min)\n",
      "Extracting data from /Users/harveyaa/nilearn_data/adhd/49718167d83b032094ad6d17e64b4e49/adhd40_1418396.tgz..... done.\n"
     ]
    },
    {
     "name": "stdout",
     "output_type": "stream",
     "text": [
      "Downloading data from https://www.nitrc.org/frs/download.php/7795/adhd40_1517058.tgz ...\n"
     ]
    },
    {
     "name": "stderr",
     "output_type": "stream",
     "text": [
      "Downloaded 56098816 of 62682233 bytes (89.5%,    0.5s remaining) ...done. (5 seconds, 0 min)\n",
      "Extracting data from /Users/harveyaa/nilearn_data/adhd/49718167d83b032094ad6d17e64b4e49/adhd40_1517058.tgz..... done.\n"
     ]
    },
    {
     "name": "stdout",
     "output_type": "stream",
     "text": [
      "Downloading data from https://www.nitrc.org/frs/download.php/7796/adhd40_1552181.tgz ...\n"
     ]
    },
    {
     "name": "stderr",
     "output_type": "stream",
     "text": [
      "Downloaded 13959168 of 20196558 bytes (69.1%,    0.4s remaining) ...done. (2 seconds, 0 min)\n",
      "Extracting data from /Users/harveyaa/nilearn_data/adhd/49718167d83b032094ad6d17e64b4e49/adhd40_1552181.tgz..... done.\n"
     ]
    },
    {
     "name": "stdout",
     "output_type": "stream",
     "text": [
      "Downloading data from https://www.nitrc.org/frs/download.php/7797/adhd40_1562298.tgz ...\n"
     ]
    },
    {
     "name": "stderr",
     "output_type": "stream",
     "text": [
      "Downloaded 54845440 of 60663491 bytes (90.4%,    0.4s remaining) ...done. (5 seconds, 0 min)\n",
      "Extracting data from /Users/harveyaa/nilearn_data/adhd/49718167d83b032094ad6d17e64b4e49/adhd40_1562298.tgz..... done.\n"
     ]
    },
    {
     "name": "stdout",
     "output_type": "stream",
     "text": [
      "Downloading data from https://www.nitrc.org/frs/download.php/7798/adhd40_1679142.tgz ...\n"
     ]
    },
    {
     "name": "stderr",
     "output_type": "stream",
     "text": [
      "Downloaded 12591104 of 20628764 bytes (61.0%,    0.6s remaining) ...done. (2 seconds, 0 min)\n",
      "Extracting data from /Users/harveyaa/nilearn_data/adhd/49718167d83b032094ad6d17e64b4e49/adhd40_1679142.tgz..... done.\n"
     ]
    },
    {
     "name": "stdout",
     "output_type": "stream",
     "text": [
      "Downloading data from https://www.nitrc.org/frs/download.php/7799/adhd40_2014113.tgz ...\n"
     ]
    },
    {
     "name": "stderr",
     "output_type": "stream",
     "text": [
      "Downloaded 25378816 of 33119052 bytes (76.6%,    0.6s remaining) ...done. (3 seconds, 0 min)\n",
      "Extracting data from /Users/harveyaa/nilearn_data/adhd/49718167d83b032094ad6d17e64b4e49/adhd40_2014113.tgz..... done.\n"
     ]
    },
    {
     "name": "stdout",
     "output_type": "stream",
     "text": [
      "Downloading data from https://www.nitrc.org/frs/download.php/7800/adhd40_2497695.tgz ...\n"
     ]
    },
    {
     "name": "stderr",
     "output_type": "stream",
     "text": [
      "Downloaded 40394752 of 45455025 bytes (88.9%,    0.4s remaining) ...done. (3 seconds, 0 min)\n",
      "Extracting data from /Users/harveyaa/nilearn_data/adhd/49718167d83b032094ad6d17e64b4e49/adhd40_2497695.tgz..... done.\n"
     ]
    },
    {
     "name": "stdout",
     "output_type": "stream",
     "text": [
      "Downloading data from https://www.nitrc.org/frs/download.php/7801/adhd40_2950754.tgz ...\n"
     ]
    },
    {
     "name": "stderr",
     "output_type": "stream",
     "text": [
      "Downloaded 55902208 of 57992968 bytes (96.4%,    0.1s remaining) ...done. (4 seconds, 0 min)\n",
      "Extracting data from /Users/harveyaa/nilearn_data/adhd/49718167d83b032094ad6d17e64b4e49/adhd40_2950754.tgz..... done.\n"
     ]
    },
    {
     "name": "stdout",
     "output_type": "stream",
     "text": [
      "Downloading data from https://www.nitrc.org/frs/download.php/7802/adhd40_3007585.tgz ...\n"
     ]
    },
    {
     "name": "stderr",
     "output_type": "stream",
     "text": [
      "Downloaded 55869440 of 67925261 bytes (82.3%,    0.9s remaining) ...done. (5 seconds, 0 min)\n",
      "Extracting data from /Users/harveyaa/nilearn_data/adhd/49718167d83b032094ad6d17e64b4e49/adhd40_3007585.tgz..... done.\n"
     ]
    },
    {
     "name": "stdout",
     "output_type": "stream",
     "text": [
      "Downloading data from https://www.nitrc.org/frs/download.php/7803/adhd40_3154996.tgz ...\n"
     ]
    },
    {
     "name": "stderr",
     "output_type": "stream",
     "text": [
      "Downloaded 26607616 of 32919780 bytes (80.8%,    0.5s remaining) ...done. (3 seconds, 0 min)\n",
      "Extracting data from /Users/harveyaa/nilearn_data/adhd/49718167d83b032094ad6d17e64b4e49/adhd40_3154996.tgz..... done.\n"
     ]
    },
    {
     "name": "stdout",
     "output_type": "stream",
     "text": [
      "Downloading data from https://www.nitrc.org/frs/download.php/7804/adhd40_3205761.tgz ...\n"
     ]
    },
    {
     "name": "stderr",
     "output_type": "stream",
     "text": [
      "Downloaded 54517760 of 59835286 bytes (91.1%,    0.4s remaining) ...done. (4 seconds, 0 min)\n",
      "Extracting data from /Users/harveyaa/nilearn_data/adhd/49718167d83b032094ad6d17e64b4e49/adhd40_3205761.tgz..... done.\n"
     ]
    },
    {
     "name": "stdout",
     "output_type": "stream",
     "text": [
      "Downloading data from https://www.nitrc.org/frs/download.php/7805/adhd40_3520880.tgz ...\n"
     ]
    },
    {
     "name": "stderr",
     "output_type": "stream",
     "text": [
      "Downloaded 54452224 of 61857076 bytes (88.0%,    0.5s remaining) ...done. (5 seconds, 0 min)\n",
      "Extracting data from /Users/harveyaa/nilearn_data/adhd/49718167d83b032094ad6d17e64b4e49/adhd40_3520880.tgz..... done.\n"
     ]
    },
    {
     "name": "stdout",
     "output_type": "stream",
     "text": [
      "Downloading data from https://www.nitrc.org/frs/download.php/7806/adhd40_3624598.tgz ...\n"
     ]
    },
    {
     "name": "stderr",
     "output_type": "stream",
     "text": [
      "Downloaded 55484416 of 59385206 bytes (93.4%,    0.4s remaining) ...done. (5 seconds, 0 min)\n",
      "Extracting data from /Users/harveyaa/nilearn_data/adhd/49718167d83b032094ad6d17e64b4e49/adhd40_3624598.tgz..... done.\n"
     ]
    },
    {
     "name": "stdout",
     "output_type": "stream",
     "text": [
      "Downloading data from https://www.nitrc.org/frs/download.php/7807/adhd40_3699991.tgz ...\n"
     ]
    },
    {
     "name": "stderr",
     "output_type": "stream",
     "text": [
      "Downloaded 38649856 of 41518251 bytes (93.1%,    0.2s remaining) ...done. (3 seconds, 0 min)\n",
      "Extracting data from /Users/harveyaa/nilearn_data/adhd/49718167d83b032094ad6d17e64b4e49/adhd40_3699991.tgz..... done.\n"
     ]
    },
    {
     "name": "stdout",
     "output_type": "stream",
     "text": [
      "Downloading data from https://www.nitrc.org/frs/download.php/7808/adhd40_3884955.tgz ...\n"
     ]
    },
    {
     "name": "stderr",
     "output_type": "stream",
     "text": [
      "Downloaded 21667840 of 32108848 bytes (67.5%,    1.0s remaining) ...done. (3 seconds, 0 min)\n",
      "Extracting data from /Users/harveyaa/nilearn_data/adhd/49718167d83b032094ad6d17e64b4e49/adhd40_3884955.tgz..... done.\n"
     ]
    },
    {
     "name": "stdout",
     "output_type": "stream",
     "text": [
      "Downloading data from https://www.nitrc.org/frs/download.php/7809/adhd40_3902469.tgz ...\n"
     ]
    },
    {
     "name": "stderr",
     "output_type": "stream",
     "text": [
      "Downloaded 25837568 of 39415752 bytes (65.6%,    1.1s remaining) ...done. (3 seconds, 0 min)\n",
      "Extracting data from /Users/harveyaa/nilearn_data/adhd/49718167d83b032094ad6d17e64b4e49/adhd40_3902469.tgz..... done.\n"
     ]
    },
    {
     "name": "stdout",
     "output_type": "stream",
     "text": [
      "Downloading data from https://www.nitrc.org/frs/download.php/7810/adhd40_3994098.tgz ...\n"
     ]
    },
    {
     "name": "stderr",
     "output_type": "stream",
     "text": [
      "Downloaded 49340416 of 59297020 bytes (83.2%,    0.8s remaining) ...done. (5 seconds, 0 min)\n",
      "Extracting data from /Users/harveyaa/nilearn_data/adhd/49718167d83b032094ad6d17e64b4e49/adhd40_3994098.tgz..... done.\n"
     ]
    },
    {
     "name": "stdout",
     "output_type": "stream",
     "text": [
      "Downloading data from https://www.nitrc.org/frs/download.php/7811/adhd40_4016887.tgz ...\n"
     ]
    },
    {
     "name": "stderr",
     "output_type": "stream",
     "text": [
      "Downloaded 10141696 of 20157314 bytes (50.3%,    1.0s remaining) ...done. (2 seconds, 0 min)\n",
      "Extracting data from /Users/harveyaa/nilearn_data/adhd/49718167d83b032094ad6d17e64b4e49/adhd40_4016887.tgz..... done.\n"
     ]
    },
    {
     "name": "stdout",
     "output_type": "stream",
     "text": [
      "Downloading data from https://www.nitrc.org/frs/download.php/7812/adhd40_4046678.tgz ...\n"
     ]
    },
    {
     "name": "stderr",
     "output_type": "stream",
     "text": [
      "Downloaded 10903552 of 21375806 bytes (51.0%,    1.0s remaining) ...done. (2 seconds, 0 min)\n",
      "Extracting data from /Users/harveyaa/nilearn_data/adhd/49718167d83b032094ad6d17e64b4e49/adhd40_4046678.tgz..... done.\n"
     ]
    },
    {
     "name": "stdout",
     "output_type": "stream",
     "text": [
      "Downloading data from https://www.nitrc.org/frs/download.php/7813/adhd40_4134561.tgz ...\n"
     ]
    },
    {
     "name": "stderr",
     "output_type": "stream",
     "text": [
      "Downloaded 63561728 of 69914913 bytes (90.9%,    0.5s remaining) ...done. (6 seconds, 0 min)\n",
      "Extracting data from /Users/harveyaa/nilearn_data/adhd/49718167d83b032094ad6d17e64b4e49/adhd40_4134561.tgz..... done.\n"
     ]
    },
    {
     "name": "stdout",
     "output_type": "stream",
     "text": [
      "Downloading data from https://www.nitrc.org/frs/download.php/7814/adhd40_4164316.tgz ...\n"
     ]
    },
    {
     "name": "stderr",
     "output_type": "stream",
     "text": [
      "Downloaded 39190528 of 45506732 bytes (86.1%,    0.5s remaining) ...done. (4 seconds, 0 min)\n",
      "Extracting data from /Users/harveyaa/nilearn_data/adhd/49718167d83b032094ad6d17e64b4e49/adhd40_4164316.tgz..... done.\n"
     ]
    },
    {
     "name": "stdout",
     "output_type": "stream",
     "text": [
      "Downloading data from https://www.nitrc.org/frs/download.php/7815/adhd40_4275075.tgz ...\n"
     ]
    },
    {
     "name": "stderr",
     "output_type": "stream",
     "text": [
      "Downloaded 27877376 of 32363673 bytes (86.1%,    0.3s remaining) ...done. (2 seconds, 0 min)\n",
      "Extracting data from /Users/harveyaa/nilearn_data/adhd/49718167d83b032094ad6d17e64b4e49/adhd40_4275075.tgz..... done.\n"
     ]
    },
    {
     "name": "stdout",
     "output_type": "stream",
     "text": [
      "Downloading data from https://www.nitrc.org/frs/download.php/7816/adhd40_6115230.tgz ...\n"
     ]
    },
    {
     "name": "stderr",
     "output_type": "stream",
     "text": [
      "Downloaded 68435968 of 73484949 bytes (93.1%,    0.4s remaining) ...done. (7 seconds, 0 min)\n",
      "Extracting data from /Users/harveyaa/nilearn_data/adhd/49718167d83b032094ad6d17e64b4e49/adhd40_6115230.tgz..... done.\n"
     ]
    },
    {
     "name": "stdout",
     "output_type": "stream",
     "text": [
      "Downloading data from https://www.nitrc.org/frs/download.php/7817/adhd40_7774305.tgz ...\n"
     ]
    },
    {
     "name": "stderr",
     "output_type": "stream",
     "text": [
      "Downloaded 34643968 of 42188959 bytes (82.1%,    0.7s remaining) ...done. (4 seconds, 0 min)\n",
      "Extracting data from /Users/harveyaa/nilearn_data/adhd/49718167d83b032094ad6d17e64b4e49/adhd40_7774305.tgz..... done.\n"
     ]
    },
    {
     "name": "stdout",
     "output_type": "stream",
     "text": [
      "Downloading data from https://www.nitrc.org/frs/download.php/7818/adhd40_8409791.tgz ...\n"
     ]
    },
    {
     "name": "stderr",
     "output_type": "stream",
     "text": [
      "Downloaded 63176704 of 70396354 bytes (89.7%,    0.6s remaining) ...done. (6 seconds, 0 min)\n",
      "Extracting data from /Users/harveyaa/nilearn_data/adhd/49718167d83b032094ad6d17e64b4e49/adhd40_8409791.tgz..... done.\n"
     ]
    },
    {
     "name": "stdout",
     "output_type": "stream",
     "text": [
      "Downloading data from https://www.nitrc.org/frs/download.php/7819/adhd40_8697774.tgz ...\n"
     ]
    },
    {
     "name": "stderr",
     "output_type": "stream",
     "text": [
      "Downloaded 41869312 of 45075978 bytes (92.9%,    0.4s remaining) ...done. (5 seconds, 0 min)\n",
      "Extracting data from /Users/harveyaa/nilearn_data/adhd/49718167d83b032094ad6d17e64b4e49/adhd40_8697774.tgz..... done.\n"
     ]
    },
    {
     "name": "stdout",
     "output_type": "stream",
     "text": [
      "Downloading data from https://www.nitrc.org/frs/download.php/7820/adhd40_9744150.tgz ...\n"
     ]
    },
    {
     "name": "stderr",
     "output_type": "stream",
     "text": [
      "Downloaded 61521920 of 63380505 bytes (97.1%,    0.4s remaining) ...done. (12 seconds, 0 min)\n",
      "Extracting data from /Users/harveyaa/nilearn_data/adhd/49718167d83b032094ad6d17e64b4e49/adhd40_9744150.tgz..... done.\n"
     ]
    },
    {
     "name": "stdout",
     "output_type": "stream",
     "text": [
      "Downloading data from https://www.nitrc.org/frs/download.php/7821/adhd40_9750701.tgz ...\n"
     ]
    },
    {
     "name": "stderr",
     "output_type": "stream",
     "text": [
      "Downloaded 41893888 of 46607053 bytes (89.9%,    0.5s remaining) ...done. (4 seconds, 0 min)\n",
      "Extracting data from /Users/harveyaa/nilearn_data/adhd/49718167d83b032094ad6d17e64b4e49/adhd40_9750701.tgz..... done.\n"
     ]
    }
   ],
   "source": [
    "# Download the dataset\n",
    "adhd = datasets.fetch_adhd(n_subjects=None)"
   ]
  },
  {
   "cell_type": "markdown",
   "metadata": {},
   "source": [
    "Now that we have our data, we will need to process it from functional scans (4D data) into connectomes for each subject. To do that we need to download an atlas (to divide the brain into regions) and create `nilearn` objects to extract the activity from each region (`NiftiLabelsMasker`) and to compare the activity between regions (`ConnectivityMeasure`). \n",
    "\n",
    "Running this cell takes about a minute to process each connectome and downloads an atlas (~30MB). \n",
    "\n",
    "**Note:** \n",
    "We've sorted the `adhd.func` and `adhd.confounds` list of filenames to ensure that we are using the same ordering of subjects everywhere (ranked increasing by ID number)."
   ]
  },
  {
   "cell_type": "code",
   "execution_count": 5,
   "metadata": {},
   "outputs": [
    {
     "name": "stdout",
     "output_type": "stream",
     "text": [
      "\n",
      "Dataset created in /Users/harveyaa/nilearn_data/fsl\n",
      "\n",
      "Downloading data from http://www.nitrc.org/frs/download.php/9902/HarvardOxford.tgz ...\n"
     ]
    },
    {
     "name": "stderr",
     "output_type": "stream",
     "text": [
      "Downloaded 12279808 of 25716861 bytes (47.8%,    1.1s remaining) ...done. (2 seconds, 0 min)\n",
      "Extracting data from /Users/harveyaa/nilearn_data/fsl/245b1ae3f43e3ea47e2ed9f438694f4a/HarvardOxford.tgz..... done.\n"
     ]
    }
   ],
   "source": [
    "# Download an atlas\n",
    "atlas = datasets.fetch_atlas_harvard_oxford('cort-maxprob-thr25-2mm')\n",
    "\n",
    "# Create the masker and correlation measure\n",
    "masker = NiftiLabelsMasker(labels_img=atlas.maps, standardize=True)\n",
    "correlation_measure = ConnectivityMeasure(kind='correlation')\n",
    "\n",
    "# Get a connectome for each subject\n",
    "connectomes=[]\n",
    "for func,conf in zip(np.sort(adhd.func),np.sort(adhd.confounds)):\n",
    "    ts = masker.fit_transform(func, confounds=conf)\n",
    "    corr = correlation_measure.fit_transform([ts])[0]\n",
    "    connectomes.append(corr)\n",
    "\n",
    "connectomes = np.array(connectomes)"
   ]
  },
  {
   "cell_type": "markdown",
   "metadata": {},
   "source": [
    "Now we'll build a DataFrame that we can use with PyNM. We'll grab the IDs, status (patient or control), gender, and age from the ADHD phenotypic information first and sort the values according to ID to match the order we processed the connectomes. Then we'll choose a random edge of the connectome to model for our example and add it to the dataframe.\n",
    "\n",
    "**Note:**\n",
    "We are building the DataFrame in this manner to ensure that pandas has the correct `dtype` for each column - if the DataFrame has `object` type for any of the columns it will cause an issue with the GAMLSS model (when the DataFrame is converted to R)."
   ]
  },
  {
   "cell_type": "code",
   "execution_count": 38,
   "metadata": {},
   "outputs": [],
   "source": [
    "# Create a DataFrame\n",
    "pheno = pd.DataFrame([int(x) for x in pd.DataFrame(adhd.phenotypic)['Subject']],columns=['id'])\n",
    "pheno['status'] = pd.DataFrame(adhd.phenotypic)['adhd']\n",
    "pheno['gender'] = [(x=='\"M\"')*1 for x in pd.DataFrame(adhd.phenotypic)['sex']]\n",
    "pheno['age'] = [x for x in pd.DataFrame(adhd.phenotypic)['age']]\n",
    "\n",
    "# Sort the values by id (same sorting as above)\n",
    "pheno.sort_values('id',inplace=True)\n",
    "\n",
    "# Add the response variable to the DataFrame\n",
    "pheno['edge'] = connectomes[:,5,8]\n",
    "\n",
    "# Normalize response variable for GAMLSS\n",
    "pheno['edge'] = (pheno['edge'] - pheno['edge'].mean())/pheno['edge'].std()"
   ]
  },
  {
   "cell_type": "markdown",
   "metadata": {},
   "source": [
    "### Visualize data"
   ]
  },
  {
   "cell_type": "code",
   "execution_count": 40,
   "metadata": {},
   "outputs": [
    {
     "data": {
      "text/plain": [
       "<AxesSubplot: xlabel='age', ylabel='edge'>"
      ]
     },
     "execution_count": 40,
     "metadata": {},
     "output_type": "execute_result"
    },
    {
     "data": {
      "image/png": "[encoded data removed]",
      "text/plain": [
       "<Figure size 1000x500 with 1 Axes>"
      ]
     },
     "metadata": {},
     "output_type": "display_data"
    }
   ],
   "source": [
    "plt.figure(figsize=(10,5))\n",
    "sns.scatterplot(x='age',y='edge',data=pheno,hue='status')"
   ]
  },
  {
   "cell_type": "markdown",
   "metadata": {},
   "source": [
    "### Fit Normative Models with Cross-Validation\n",
    "The number of folds of cross-validation can be set when calling each model using the `cv_folds` parameter. By default `cv_folds=1`, no cross-validation is performed, and the metrics are estimated on the training data only.\n",
    "\n",
    "Here we'll run each model seperately so we can see the output of the cross-validation at each fold."
   ]
  },
  {
   "cell_type": "code",
   "execution_count": 41,
   "metadata": {},
   "outputs": [
    {
     "name": "stdout",
     "output_type": "stream",
     "text": [
      "Models will be fit on full set of controls.\n"
     ]
    }
   ],
   "source": [
    "# Initialize pynm w/ data, confounds & bin parameters\n",
    "m = PyNM(pheno,'edge','status',['age','c(gender)'],bin_width=15,bin_spacing=1)"
   ]
  },
  {
   "cell_type": "code",
   "execution_count": 42,
   "metadata": {},
   "outputs": [
    {
     "name": "stdout",
     "output_type": "stream",
     "text": [
      "Starting 5 folds of CV...\n",
      "CV Fold 0: RMSE=1.288 - SMSE=1.230\n",
      "CV Fold 1: RMSE=1.396 - SMSE=1.436\n",
      "CV Fold 2: RMSE=1.110 - SMSE=1.027\n",
      "CV Fold 3: RMSE=0.717 - SMSE=1.019\n",
      "CV Fold 4: RMSE=0.929 - SMSE=1.032\n",
      "Done!\n",
      "Average: RMSE=1.088 - SMSE=1.149\n"
     ]
    }
   ],
   "source": [
    "# Run Centiles model\n",
    "m.centiles_normative_model(cv_folds=5)"
   ]
  },
  {
   "cell_type": "code",
   "execution_count": 43,
   "metadata": {},
   "outputs": [
    {
     "name": "stdout",
     "output_type": "stream",
     "text": [
      "Starting 5 folds of CV...\n",
      "CV Fold 0: RMSE=1.555 - SMSE=2.148\n",
      "CV Fold 1: RMSE=1.145 - SMSE=1.371\n",
      "CV Fold 2: RMSE=1.098 - SMSE=1.079\n",
      "CV Fold 3: RMSE=0.600 - SMSE=0.821\n",
      "CV Fold 4: RMSE=1.025 - SMSE=1.046\n",
      "Done!\n",
      "Average: RMSE=1.085 - SMSE=1.293\n"
     ]
    }
   ],
   "source": [
    "# Run LOESS model\n",
    "m.loess_normative_model(cv_folds=5)"
   ]
  },
  {
   "cell_type": "code",
   "execution_count": 44,
   "metadata": {},
   "outputs": [
    {
     "name": "stdout",
     "output_type": "stream",
     "text": [
      "Starting 5 folds of CV...\n",
      "CV Fold 0: RMSE=0.996 - SMSE=1.085 - MSLL=0.038\n",
      "CV Fold 1: RMSE=0.975 - SMSE=1.000 - MSLL=0.000\n",
      "CV Fold 2: RMSE=1.488 - SMSE=1.102 - MSLL=0.098\n",
      "CV Fold 3: RMSE=1.213 - SMSE=1.056 - MSLL=-0.027\n",
      "CV Fold 4: RMSE=0.655 - SMSE=1.123 - MSLL=-0.010\n",
      "Done!\n",
      "Average: RMSE=1.065 - SMSE=1.073 - MSLL=0.020\n"
     ]
    },
    {
     "name": "stderr",
     "output_type": "stream",
     "text": [
      "/Users/harveyaa/miniconda3/envs/pynm/lib/python3.9/site-packages/sklearn/gaussian_process/kernels.py:420: ConvergenceWarning: The optimal value found for dimension 0 of parameter k1__k1__constant_value is close to the specified lower bound 1e-05. Decreasing the bound and calling fit again may find a better value.\n",
      "  warnings.warn(\n",
      "/Users/harveyaa/miniconda3/envs/pynm/lib/python3.9/site-packages/sklearn/gaussian_process/kernels.py:420: ConvergenceWarning: The optimal value found for dimension 0 of parameter k1__k1__constant_value is close to the specified lower bound 1e-05. Decreasing the bound and calling fit again may find a better value.\n",
      "  warnings.warn(\n",
      "/Users/harveyaa/miniconda3/envs/pynm/lib/python3.9/site-packages/sklearn/gaussian_process/kernels.py:420: ConvergenceWarning: The optimal value found for dimension 0 of parameter k1__k1__constant_value is close to the specified lower bound 1e-05. Decreasing the bound and calling fit again may find a better value.\n",
      "  warnings.warn(\n",
      "/Users/harveyaa/miniconda3/envs/pynm/lib/python3.9/site-packages/sklearn/gaussian_process/kernels.py:420: ConvergenceWarning: The optimal value found for dimension 0 of parameter k1__k1__constant_value is close to the specified lower bound 1e-05. Decreasing the bound and calling fit again may find a better value.\n",
      "  warnings.warn(\n",
      "/Users/harveyaa/miniconda3/envs/pynm/lib/python3.9/site-packages/sklearn/gaussian_process/kernels.py:420: ConvergenceWarning: The optimal value found for dimension 0 of parameter k1__k1__constant_value is close to the specified lower bound 1e-05. Decreasing the bound and calling fit again may find a better value.\n",
      "  warnings.warn(\n",
      "/Users/harveyaa/miniconda3/envs/pynm/lib/python3.9/site-packages/sklearn/gaussian_process/kernels.py:420: ConvergenceWarning: The optimal value found for dimension 0 of parameter k2__length_scale is close to the specified lower bound 1e-05. Decreasing the bound and calling fit again may find a better value.\n",
      "  warnings.warn(\n",
      "/Users/harveyaa/miniconda3/envs/pynm/lib/python3.9/site-packages/sklearn/gaussian_process/kernels.py:420: ConvergenceWarning: The optimal value found for dimension 0 of parameter k1__k1__constant_value is close to the specified lower bound 1e-05. Decreasing the bound and calling fit again may find a better value.\n",
      "  warnings.warn(\n"
     ]
    }
   ],
   "source": [
    "# Run GP model\n",
    "m.gp_normative_model(cv_folds=5)"
   ]
  },
  {
   "cell_type": "code",
   "execution_count": 45,
   "metadata": {},
   "outputs": [
    {
     "name": "stdout",
     "output_type": "stream",
     "text": [
      "Starting 5 folds of CV...\n"
     ]
    },
    {
     "name": "stderr",
     "output_type": "stream",
     "text": [
      "/Users/harveyaa/miniconda3/envs/pynm/lib/python3.9/site-packages/rpy2/robjects/pandas2ri.py:56: FutureWarning: iteritems is deprecated and will be removed in a future version. Use .items instead.\n",
      "  for name, values in obj.iteritems():\n"
     ]
    },
    {
     "name": "stdout",
     "output_type": "stream",
     "text": [
      "GAMLSS-RS iteration 1: Global Deviance = 49.8774 \n",
      "GAMLSS-RS iteration 2: Global Deviance = 44.9473 \n",
      "GAMLSS-RS iteration 3: Global Deviance = 42.0058 \n",
      "GAMLSS-RS iteration 4: Global Deviance = 40.7857 \n",
      "GAMLSS-RS iteration 5: Global Deviance = 40.2466 \n",
      "GAMLSS-RS iteration 6: Global Deviance = 2034.457 \n",
      "GAMLSS-RS iteration 7: Global Deviance = 1276.049 \n",
      "GAMLSS-RS iteration 8: Global Deviance = 520.1909 \n",
      "GAMLSS-RS iteration 9: Global Deviance = 71.3435 \n",
      "GAMLSS-RS iteration 10: Global Deviance = 39.3171 \n",
      "GAMLSS-RS iteration 11: Global Deviance = 878.8682 \n",
      "GAMLSS-RS iteration 12: Global Deviance = 111.0005 \n",
      "GAMLSS-RS iteration 13: Global Deviance = 39.8047 \n",
      "GAMLSS-RS iteration 14: Global Deviance = 46.2067 \n",
      "GAMLSS-RS iteration 15: Global Deviance = 41.4369 \n",
      "GAMLSS-RS iteration 16: Global Deviance = 40.8276 \n",
      "GAMLSS-RS iteration 17: Global Deviance = 39.6037 \n",
      "GAMLSS-RS iteration 18: Global Deviance = 39.0107 \n",
      "GAMLSS-RS iteration 19: Global Deviance = 39.0304 \n",
      "GAMLSS-RS iteration 20: Global Deviance = 38.3998 \n",
      "new prediction \n",
      "CV Fold 0: RMSE=1.739 - SMSE=3.884 - MSLL=0.779\n",
      "GAMLSS-RS iteration 1: Global Deviance = 47.309 \n",
      "GAMLSS-RS iteration 2: Global Deviance = 37.0848 \n",
      "GAMLSS-RS iteration 3: Global Deviance = 34.9224 \n",
      "GAMLSS-RS iteration 4: Global Deviance = 45.2046 \n",
      "GAMLSS-RS iteration 5: Global Deviance = 33.2243 \n",
      "GAMLSS-RS iteration 6: Global Deviance = 40.6173 \n",
      "GAMLSS-RS iteration 7: Global Deviance = 37.0431 \n",
      "GAMLSS-RS iteration 8: Global Deviance = 38.4939 \n",
      "GAMLSS-RS iteration 9: Global Deviance = 33.7168 \n",
      "GAMLSS-RS iteration 10: Global Deviance = 34.3106 \n",
      "GAMLSS-RS iteration 11: Global Deviance = 28.9436 \n",
      "GAMLSS-RS iteration 12: Global Deviance = 40.7217 \n",
      "GAMLSS-RS iteration 13: Global Deviance = 23.3324 \n",
      "GAMLSS-RS iteration 14: Global Deviance = 19.3972 \n",
      "GAMLSS-RS iteration 15: Global Deviance = 10.5872 \n",
      "GAMLSS-RS iteration 16: Global Deviance = 7.5249 \n",
      "GAMLSS-RS iteration 17: Global Deviance = 1.8269 \n",
      "GAMLSS-RS iteration 18: Global Deviance = -12.6877 \n",
      "GAMLSS-RS iteration 19: Global Deviance = -13.9316 \n",
      "GAMLSS-RS iteration 20: Global Deviance = -28.5892 \n",
      "new prediction \n",
      "CV Fold 1: RMSE=1.791 - SMSE=3.001 - MSLL=2.163\n",
      "GAMLSS-RS iteration 1: Global Deviance = 33.6022 \n",
      "GAMLSS-RS iteration 2: Global Deviance = 26.0773 \n",
      "GAMLSS-RS iteration 3: Global Deviance = 19.1709 \n",
      "GAMLSS-RS iteration 4: Global Deviance = 18.7191 \n",
      "GAMLSS-RS iteration 5: Global Deviance = 26.0248 \n",
      "GAMLSS-RS iteration 6: Global Deviance = 26.7143 \n",
      "GAMLSS-RS iteration 7: Global Deviance = 22.9212 \n",
      "GAMLSS-RS iteration 8: Global Deviance = 21.1102 \n",
      "GAMLSS-RS iteration 9: Global Deviance = 30.9357 \n",
      "GAMLSS-RS iteration 10: Global Deviance = 23.5203 \n",
      "GAMLSS-RS iteration 11: Global Deviance = 23.602 \n",
      "GAMLSS-RS iteration 12: Global Deviance = 21.5835 \n",
      "GAMLSS-RS iteration 13: Global Deviance = 16.0543 \n",
      "GAMLSS-RS iteration 14: Global Deviance = 46.3003 \n",
      "GAMLSS-RS iteration 15: Global Deviance = 30.5977 \n",
      "GAMLSS-RS iteration 16: Global Deviance = 27.882 \n",
      "GAMLSS-RS iteration 17: Global Deviance = 26.504 \n",
      "GAMLSS-RS iteration 18: Global Deviance = 19.9178 \n",
      "GAMLSS-RS iteration 19: Global Deviance = 22.3617 \n",
      "GAMLSS-RS iteration 20: Global Deviance = 17.4229 \n",
      "new prediction \n",
      "CV Fold 2: RMSE=2.233 - SMSE=1.376 - MSLL=0.647\n",
      "GAMLSS-RS iteration 1: Global Deviance = 36.8574 \n",
      "GAMLSS-RS iteration 2: Global Deviance = 22.5524 \n",
      "GAMLSS-RS iteration 3: Global Deviance = 27.5958 \n",
      "GAMLSS-RS iteration 4: Global Deviance = 25.9115 \n",
      "GAMLSS-RS iteration 5: Global Deviance = 22.1042 \n",
      "GAMLSS-RS iteration 6: Global Deviance = 29.204 \n",
      "GAMLSS-RS iteration 7: Global Deviance = 27.8475 \n",
      "GAMLSS-RS iteration 8: Global Deviance = 27.0889 \n",
      "GAMLSS-RS iteration 9: Global Deviance = 30.6994 \n",
      "GAMLSS-RS iteration 10: Global Deviance = 34.5326 \n",
      "GAMLSS-RS iteration 11: Global Deviance = 43.7024 \n",
      "GAMLSS-RS iteration 12: Global Deviance = 25.582 \n",
      "GAMLSS-RS iteration 13: Global Deviance = 24.8999 \n",
      "GAMLSS-RS iteration 14: Global Deviance = 25.3364 \n",
      "GAMLSS-RS iteration 15: Global Deviance = 54.2608 \n",
      "GAMLSS-RS iteration 16: Global Deviance = 26.618 \n",
      "GAMLSS-RS iteration 17: Global Deviance = 26.7667 \n",
      "GAMLSS-RS iteration 18: Global Deviance = 35.1247 \n",
      "GAMLSS-RS iteration 19: Global Deviance = 23.1092 \n",
      "GAMLSS-RS iteration 20: Global Deviance = 23.5458 \n",
      "new prediction \n",
      "CV Fold 3: RMSE=6.507 - SMSE=7.334 - MSLL=1.958\n",
      "GAMLSS-RS iteration 1: Global Deviance = 46.0814 \n",
      "GAMLSS-RS iteration 2: Global Deviance = 42.967 \n",
      "GAMLSS-RS iteration 3: Global Deviance = 42.371 \n",
      "GAMLSS-RS iteration 4: Global Deviance = 42.2754 \n",
      "GAMLSS-RS iteration 5: Global Deviance = 42.2536 \n",
      "GAMLSS-RS iteration 6: Global Deviance = 41.686 \n",
      "GAMLSS-RS iteration 7: Global Deviance = 36.6167 \n",
      "GAMLSS-RS iteration 8: Global Deviance = 35.4981 \n",
      "GAMLSS-RS iteration 9: Global Deviance = 33.7879 \n",
      "GAMLSS-RS iteration 10: Global Deviance = 31.5873 \n",
      "GAMLSS-RS iteration 11: Global Deviance = 27.0597 \n",
      "GAMLSS-RS iteration 12: Global Deviance = 24.3022 \n",
      "GAMLSS-RS iteration 13: Global Deviance = 19.8161 \n",
      "GAMLSS-RS iteration 14: Global Deviance = 20.8476 \n",
      "GAMLSS-RS iteration 15: Global Deviance = 16.8049 \n",
      "GAMLSS-RS iteration 16: Global Deviance = 13.7548 \n",
      "GAMLSS-RS iteration 17: Global Deviance = 9.5391 \n",
      "GAMLSS-RS iteration 18: Global Deviance = -1.9172 \n",
      "GAMLSS-RS iteration 19: Global Deviance = -46.2349 \n",
      "GAMLSS-RS iteration 20: Global Deviance = 7.5353 \n",
      "new prediction \n",
      "CV Fold 4: RMSE=2.052 - SMSE=1.853 - MSLL=1.749\n",
      "Done!\n",
      "Average: RMSE=2.864 - SMSE=3.490 - MSLL=1.459\n",
      "GAMLSS-RS iteration 1: Global Deviance = 61.4884 \n",
      "GAMLSS-RS iteration 2: Global Deviance = 58.16 \n",
      "GAMLSS-RS iteration 3: Global Deviance = 56.7079 \n",
      "GAMLSS-RS iteration 4: Global Deviance = 56.1664 \n",
      "GAMLSS-RS iteration 5: Global Deviance = 55.6957 \n",
      "GAMLSS-RS iteration 6: Global Deviance = 54.9783 \n",
      "GAMLSS-RS iteration 7: Global Deviance = 54.107 \n",
      "GAMLSS-RS iteration 8: Global Deviance = 53.1275 \n",
      "GAMLSS-RS iteration 9: Global Deviance = 52.2967 \n",
      "GAMLSS-RS iteration 10: Global Deviance = 51.6517 \n",
      "GAMLSS-RS iteration 11: Global Deviance = 51.1393 \n",
      "GAMLSS-RS iteration 12: Global Deviance = 24683.69 \n",
      "GAMLSS-RS iteration 13: Global Deviance = 23894.18 \n",
      "GAMLSS-RS iteration 14: Global Deviance = 23110.05 \n",
      "GAMLSS-RS iteration 15: Global Deviance = 22336.85 \n",
      "GAMLSS-RS iteration 16: Global Deviance = 21554.06 \n",
      "GAMLSS-RS iteration 17: Global Deviance = 20772.73 \n",
      "GAMLSS-RS iteration 18: Global Deviance = 19994.1 \n",
      "GAMLSS-RS iteration 19: Global Deviance = 19220.75 \n",
      "GAMLSS-RS iteration 20: Global Deviance = 18447.7 \n",
      "new prediction \n"
     ]
    }
   ],
   "source": [
    "# Run GAMLSS model\n",
    "m.gamlss_normative_model(cv_folds=5)"
   ]
  },
  {
   "cell_type": "markdown",
   "metadata": {},
   "source": [
    "### Visualize Models"
   ]
  },
  {
   "cell_type": "code",
   "execution_count": 46,
   "metadata": {},
   "outputs": [
    {
     "data": {
      "image/png": "[encoded data removed]",
      "text/plain": [
       "<Figure size 2000x500 with 4 Axes>"
      ]
     },
     "metadata": {},
     "output_type": "display_data"
    }
   ],
   "source": [
    "# Plot the data, model prediction, & 95% confidence interval\n",
    "m.plot()"
   ]
  },
  {
   "cell_type": "markdown",
   "metadata": {},
   "source": [
    "### Compare Metrics\n",
    "\n",
    "We can take a quick view of all the metrics for the models that have been run automatically using the `report` function."
   ]
  },
  {
   "cell_type": "code",
   "execution_count": 47,
   "metadata": {},
   "outputs": [
    {
     "name": "stdout",
     "output_type": "stream",
     "text": [
      "------\n",
      "Report\n",
      "------\n",
      "========= SMSE - RMSE - MSLL\n",
      "LOESS     1.29   1.08   N/A\n",
      "Centiles  1.15   1.09   N/A\n",
      "GP        1.07   1.07   0.02\n",
      "GAMLSS    3.49   2.86   1.46\n"
     ]
    }
   ],
   "source": [
    "# View all the metrics for each model\n",
    "m.report()"
   ]
  },
  {
   "cell_type": "markdown",
   "metadata": {},
   "source": [
    "We can also access the metrics (with full precision) individually, they are stored as attributes of the PyNM object in the following format `{metric}_{model}`."
   ]
  },
  {
   "cell_type": "code",
   "execution_count": 48,
   "metadata": {},
   "outputs": [
    {
     "data": {
      "text/plain": [
       "1.0731271374089988"
      ]
     },
     "execution_count": 48,
     "metadata": {},
     "output_type": "execute_result"
    }
   ],
   "source": [
    "# View a single metric (full precision)\n",
    "m.SMSE_GP"
   ]
  },
  {
   "cell_type": "markdown",
   "metadata": {},
   "source": [
    "## **Summary**\n",
    "- Cross-validation is a tool to assist model selection by giving a more stable evaluation of model performance.\n",
    "- PyNM implements Standardized Mean Squared Error (SMSE) and Root Mean Squared Error (RMSE) for all models, and Mean Standardized Log Loss (MSLL) for the GP and GAMLSS models.\n",
    "- We can set the number of folds of cross-validation using the `cv_folds` parameter of each model.\n",
    "- We can get an overview of the model evaluations using the `report` function.\n",
    "- We can access the metrics individually as attributes in the format `{metric}_{model}`."
   ]
  },
  {
   "cell_type": "markdown",
   "metadata": {},
   "source": [
    "## **Resources**\n",
    "- For discussion of MSLL see the Dinga et al. 2021 [preprint](https://doi.org/10.1101/2021.06.14.448106)"
   ]
  },
  {
   "cell_type": "markdown",
   "metadata": {},
   "source": [
    "### **Next up:** Using results of normative modeling for downstream analyses using a held out training sample!"
   ]
  },
  {
   "cell_type": "code",
   "execution_count": null,
   "metadata": {},
   "outputs": [],
   "source": []
  }
 ],
 "metadata": {
  "kernelspec": {
   "display_name": "Python 3.9.13 ('pynm')",
   "language": "python",
   "name": "python3"
  },
  "language_info": {
   "codemirror_mode": {
    "name": "ipython",
    "version": 3
   },
   "file_extension": ".py",
   "mimetype": "text/x-python",
   "name": "python",
   "nbconvert_exporter": "python",
   "pygments_lexer": "ipython3",
   "version": "3.9.13"
  },
  "vscode": {
   "interpreter": {
    "hash": "ed29c62badbea2ccb50f02cde22fedeeec94826bfdd61da0c4967f5407f4981f"
   }
  }
 },
 "nbformat": 4,
 "nbformat_minor": 4
}
